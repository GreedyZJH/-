{
 "cells": [
  {
   "cell_type": "code",
   "execution_count": 1,
   "metadata": {},
   "outputs": [],
   "source": [
    "import yfinance as yf\n",
    "import matplotlib.pyplot as plt\n",
    "from pandas_datareader import data as pdr\n",
    "import csv"
   ]
  },
  {
   "cell_type": "code",
   "execution_count": 2,
   "metadata": {},
   "outputs": [],
   "source": [
    "albb = yf.Ticker(\"BABA\")\n"
   ]
  },
  {
   "cell_type": "code",
   "execution_count": 3,
   "metadata": {},
   "outputs": [],
   "source": [
    "albb_info = albb.info"
   ]
  },
  {
   "cell_type": "code",
   "execution_count": 4,
   "metadata": {},
   "outputs": [
    {
     "name": "stdout",
     "output_type": "stream",
     "text": [
      "{'zip': '311121', 'sector': 'Consumer Cyclical', 'fullTimeEmployees': 117600, 'longBusinessSummary': \"Alibaba Group Holding Limited, through its subsidiaries, provides online and mobile commerce businesses in the People's Republic of China and internationally. It operates in four segments: Core Commerce, Cloud Computing, Digital Media and Entertainment, and Innovation Initiatives and Others. The company operates Taobao Marketplace, a mobile commerce destination; Tmall, a third-party platform; Alibaba Health pharmaceutical e-commerce and consumer healthcare platforms; Alimama, a monetization platform; 1688.com, an online wholesale marketplace; Alibaba.com, an online wholesale marketplace; AliExpress, a retail marketplace; Lazada, an e-commerce platform; and Tmall Global, an import e-commerce platform. It also operates Lingshoutong, a digital sourcing platform; Cainiao Network logistic services platform; Ele.me, a delivery and local services platform; Koubei, a restaurant and local services guide platform; and Fliggy, an online travel platform. In addition, the company offers pay-for-performance and display marketing services; and Taobao Ad Network and Exchange, a real-time bidding online marketing exchange. Further, it provides elastic computing, database, storage, virtualization network, large scale computing, security, and management and application, big data analytics, machine learning platform, and Internet of Things and other services for enterprises; and payment and escrow services; and movies, television series, variety shows, animations, and other video content. Additionally, the company operates Youku, an online video platform; UC Browser, a mobile browser; Alibaba Pictures and other content platforms that provide online videos, films, live events, news feeds, literature, music, and others; Amap, a mobile digital map, navigation, and real-time traffic information app; DingTalk, a business efficiency app; and Tmall Genie, an AI-powered smart speaker. The company was founded in 1999 and is based in Hangzhou, the People's Republic of China.\", 'city': 'Hangzhou', 'phone': '86 571 8502 2088', 'country': 'China', 'companyOfficers': [], 'website': 'http://www.alibabagroup.com', 'maxAge': 1, 'address1': '969 West Wen Yi Road', 'fax': '86 571 8526 9066', 'industry': 'Internet Retail', 'address2': 'Yu Hang District', 'previousClose': 223.68, 'regularMarketOpen': 218, 'twoHundredDayAverage': 206.57059, 'trailingAnnualDividendYield': None, 'payoutRatio': 0, 'volume24Hr': None, 'regularMarketDayHigh': 219.95, 'navPrice': None, 'averageDailyVolume10Day': 15715850, 'totalAssets': None, 'regularMarketPreviousClose': 223.68, 'fiftyDayAverage': 206.538, 'trailingAnnualDividendRate': None, 'open': 218, 'toCurrency': None, 'averageVolume10days': 15715850, 'expireDate': None, 'yield': None, 'algorithm': None, 'dividendRate': None, 'exDividendDate': None, 'beta': 1.55819, 'circulatingSupply': None, 'startDate': None, 'regularMarketDayLow': 213.56, 'priceHint': 2, 'currency': 'USD', 'trailingPE': 61.5499, 'regularMarketVolume': 15498675, 'lastMarket': None, 'maxSupply': None, 'openInterest': None, 'marketCap': 574413144064, 'volumeAllCurrencies': None, 'strikePrice': None, 'averageVolume': 19775917, 'priceToSalesTrailing12Months': None, 'dayLow': 213.56, 'ask': 216.85, 'ytdReturn': None, 'askSize': 800, 'volume': 15498675, 'fiftyTwoWeekHigh': 231.14, 'forwardPE': 22.728617, 'fromCurrency': None, 'fiveYearAvgDividendYield': None, 'fiftyTwoWeekLow': 151.85, 'bid': 215.65, 'tradeable': False, 'dividendYield': None, 'bidSize': 1000, 'dayHigh': 219.95, 'exchange': 'NYQ', 'shortName': 'Alibaba Group Holding Limited', 'longName': 'Alibaba Group Holding Limited', 'exchangeTimezoneName': 'America/New_York', 'exchangeTimezoneShortName': 'EDT', 'isEsgPopulated': False, 'gmtOffSetMilliseconds': '-14400000', 'quoteType': 'EQUITY', 'symbol': 'BABA', 'messageBoardId': 'finmb_42083601', 'market': 'us_market', 'annualHoldingsTurnover': None, 'enterpriseToRevenue': None, 'beta3Year': None, 'profitMargins': 0.29317, 'enterpriseToEbitda': None, '52WeekChange': 0.39512253, 'morningStarRiskRating': None, 'forwardEps': 9.47, 'revenueQuarterlyGrowth': None, 'sharesOutstanding': 2682720000, 'fundInceptionDate': None, 'annualReportExpenseRatio': None, 'bookValue': 24.798, 'sharesShort': 36371092, 'sharesPercentSharesOut': 0.0136, 'fundFamily': None, 'lastFiscalYearEnd': 1585612800, 'heldPercentInstitutions': 0.48804, 'netIncomeToCommon': None, 'trailingEps': 3.497, 'lastDividendValue': None, 'SandP52WeekChange': 0.10322857, 'priceToBook': 8.679732, 'heldPercentInsiders': 0.25373, 'nextFiscalYearEnd': 1648684800, 'mostRecentQuarter': 1585612800, 'shortRatio': 1.47, 'sharesShortPreviousMonthDate': 1588204800, 'floatShares': 1795208044, 'enterpriseValue': 588256772096, 'threeYearAverageReturn': None, 'lastSplitDate': None, 'lastSplitFactor': None, 'legalType': None, 'morningStarOverallRating': None, 'earningsQuarterlyGrowth': -0.876, 'dateShortInterest': 1590710400, 'pegRatio': 74.6, 'lastCapGain': None, 'shortPercentOfFloat': None, 'sharesShortPriorMonth': 29131792, 'category': None, 'fiveYearAverageReturn': None, 'regularMarketPrice': 218, 'logo_url': 'https://logo.clearbit.com/alibabagroup.com'}\n"
     ]
    }
   ],
   "source": [
    "print(albb_info)"
   ]
  },
  {
   "cell_type": "code",
   "execution_count": 5,
   "metadata": {},
   "outputs": [],
   "source": [
    "hist = albb.history(period=\"max\")#获取取最长时间的历史价格数据：\n"
   ]
  },
  {
   "cell_type": "code",
   "execution_count": 6,
   "metadata": {},
   "outputs": [],
   "source": [
    "hist_close = hist['Close']#获取close数据"
   ]
  },
  {
   "cell_type": "code",
   "execution_count": 7,
   "metadata": {},
   "outputs": [
    {
     "data": {
      "text/plain": [
       "<Figure size 1152x1008 with 0 Axes>"
      ]
     },
     "execution_count": 7,
     "metadata": {},
     "output_type": "execute_result"
    },
    {
     "data": {
      "text/plain": [
       "<Figure size 1152x1008 with 0 Axes>"
      ]
     },
     "metadata": {},
     "output_type": "display_data"
    }
   ],
   "source": [
    "plt.figure(figsize=(16,14))"
   ]
  },
  {
   "cell_type": "code",
   "execution_count": 8,
   "metadata": {},
   "outputs": [
    {
     "data": {
      "text/plain": [
       "Text(0.5, 1.0, 'albb')"
      ]
     },
     "execution_count": 8,
     "metadata": {},
     "output_type": "execute_result"
    },
    {
     "data": {
      "image/png": "[encoded data removed]",
      "text/plain": [
       "<Figure size 432x288 with 1 Axes>"
      ]
     },
     "metadata": {
      "needs_background": "light"
     },
     "output_type": "display_data"
    }
   ],
   "source": [
    "plt.title('albb')"
   ]
  },
  {
   "cell_type": "code",
   "execution_count": 9,
   "metadata": {},
   "outputs": [
    {
     "data": {
      "text/plain": [
       "<matplotlib.axes._subplots.AxesSubplot at 0x20533e39a58>"
      ]
     },
     "execution_count": 9,
     "metadata": {},
     "output_type": "execute_result"
    },
    {
     "data": {
      "image/png": "[encoded data removed]",
      "text/plain": [
       "<Figure size 432x288 with 1 Axes>"
      ]
     },
     "metadata": {
      "needs_background": "light"
     },
     "output_type": "display_data"
    }
   ],
   "source": [
    "hist_close.plot()"
   ]
  },
  {
   "cell_type": "code",
   "execution_count": 10,
   "metadata": {},
   "outputs": [],
   "source": [
    "plt.show()"
   ]
  },
  {
   "cell_type": "code",
   "execution_count": 11,
   "metadata": {},
   "outputs": [],
   "source": [
    "yf.pdr_override()"
   ]
  },
  {
   "cell_type": "code",
   "execution_count": 12,
   "metadata": {},
   "outputs": [
    {
     "name": "stdout",
     "output_type": "stream",
     "text": [
      "[*********************100%***********************]  1 of 1 completed\n"
     ]
    }
   ],
   "source": [
    "data = pdr.get_data_yahoo(\"BABA\",start=\"2020-01-01\",den=\"2020-06-09\")"
   ]
  },
  {
   "cell_type": "code",
   "execution_count": 13,
   "metadata": {},
   "outputs": [
    {
     "name": "stdout",
     "output_type": "stream",
     "text": [
      "                  Open        High         Low       Close   Adj Close  \\\n",
      "Date                                                                     \n",
      "2019-12-31  212.000000  213.639999  210.729996  212.100006  212.100006   \n",
      "2020-01-02  216.600006  219.979996  216.539993  219.770004  219.770004   \n",
      "2020-01-03  216.350006  218.203003  216.009995  217.000000  217.000000   \n",
      "2020-01-06  214.889999  217.160004  214.089996  216.639999  216.639999   \n",
      "2020-01-07  217.639999  218.940002  216.690002  217.630005  217.630005   \n",
      "2020-01-08  216.600006  220.649994  216.320007  218.000000  218.000000   \n",
      "2020-01-09  221.500000  223.080002  220.820007  221.779999  221.779999   \n",
      "2020-01-10  223.899994  225.960007  222.061005  223.830002  223.830002   \n",
      "2020-01-13  228.809998  231.139999  227.039993  230.479996  230.479996   \n",
      "2020-01-14  230.050003  230.175003  224.880005  226.490005  226.490005   \n",
      "2020-01-15  226.649994  227.820007  224.389999  225.059998  225.059998   \n",
      "2020-01-16  226.300003  226.330002  222.729996  223.940002  223.940002   \n",
      "2020-01-17  225.899994  228.000000  225.350006  227.429993  227.429993   \n",
      "2020-01-21  222.449997  222.600006  220.729996  222.259995  222.259995   \n",
      "2020-01-22  224.690002  225.580002  222.000000  222.369995  222.369995   \n",
      "2020-01-23  217.929993  220.130005  216.770004  219.130005  219.130005   \n",
      "2020-01-24  218.490005  219.830002  211.324997  213.750000  213.750000   \n",
      "2020-01-27  201.220001  208.020004  199.500000  205.470001  205.470001   \n",
      "2020-01-28  209.740005  210.910004  207.169998  210.229996  210.229996   \n",
      "2020-01-29  212.559998  213.979996  209.520004  212.020004  212.020004   \n",
      "2020-01-30  207.880005  209.860001  205.029999  208.580002  208.580002   \n",
      "2020-01-31  206.500000  207.929993  204.727997  206.589996  206.589996   \n",
      "2020-02-03  208.669998  215.020004  208.669998  213.100006  213.100006   \n",
      "2020-02-04  221.350006  224.380005  220.490005  222.880005  222.880005   \n",
      "2020-02-05  226.520004  226.699997  217.539993  220.220001  220.220001   \n",
      "2020-02-06  223.130005  223.649994  219.779999  220.899994  220.899994   \n",
      "2020-02-07  217.460007  217.839996  214.880005  216.529999  216.529999   \n",
      "2020-02-10  213.500000  215.770004  212.199997  215.770004  215.770004   \n",
      "2020-02-11  219.910004  220.009995  215.289993  217.210007  217.210007   \n",
      "2020-02-12  221.130005  225.520004  220.210007  224.309998  224.309998   \n",
      "...                ...         ...         ...         ...         ...   \n",
      "2020-04-30  206.250000  206.699997  199.289993  202.669998  202.669998   \n",
      "2020-05-01  195.750000  197.380005  192.860001  194.479996  194.479996   \n",
      "2020-05-04  194.759995  195.000000  189.529999  191.149994  191.149994   \n",
      "2020-05-05  196.380005  198.270004  194.199997  195.020004  195.020004   \n",
      "2020-05-06  197.669998  198.910004  194.929993  195.169998  195.169998   \n",
      "2020-05-07  198.000000  198.089996  194.779999  196.490005  196.490005   \n",
      "2020-05-08  199.800003  203.020004  198.679993  201.190002  201.190002   \n",
      "2020-05-11  202.779999  206.639999  202.380005  205.399994  205.399994   \n",
      "2020-05-12  206.949997  208.050003  200.020004  200.309998  200.309998   \n",
      "2020-05-13  203.619995  204.679993  197.979996  199.460007  199.460007   \n",
      "2020-05-14  195.500000  201.770004  194.029999  201.300003  201.300003   \n",
      "2020-05-15  200.699997  204.490005  200.100006  203.679993  203.679993   \n",
      "2020-05-18  212.500000  215.470001  210.369995  215.279999  215.279999   \n",
      "2020-05-19  216.729996  220.589996  215.190002  217.199997  217.199997   \n",
      "2020-05-20  220.000000  221.156998  210.580002  216.789993  216.789993   \n",
      "2020-05-21  211.289993  214.580002  209.529999  212.160004  212.160004   \n",
      "2020-05-22  203.229996  204.880005  198.990005  199.699997  199.699997   \n",
      "2020-05-26  205.940002  206.800003  201.000000  201.720001  201.720001   \n",
      "2020-05-27  202.990005  202.990005  196.750000  201.179993  201.179993   \n",
      "2020-05-28  199.000000  202.369995  197.619995  199.490005  199.490005   \n",
      "2020-05-29  200.000000  207.880005  196.699997  207.389999  207.389999   \n",
      "2020-06-01  205.899994  207.199997  203.940002  206.570007  206.570007   \n",
      "2020-06-02  207.210007  214.570007  207.169998  214.330002  214.330002   \n",
      "2020-06-03  215.600006  218.970001  213.750000  218.610001  218.610001   \n",
      "2020-06-04  217.279999  220.000000  216.320007  218.039993  218.039993   \n",
      "2020-06-05  220.000000  220.589996  218.699997  219.550003  219.550003   \n",
      "2020-06-08  219.600006  220.399994  215.330002  219.000000  219.000000   \n",
      "2020-06-09  216.309998  220.720001  216.199997  220.720001  220.720001   \n",
      "2020-06-10  222.000000  225.000000  220.600006  223.679993  223.679993   \n",
      "2020-06-11  218.000000  219.949997  213.559998  215.240005  215.240005   \n",
      "\n",
      "              Volume  \n",
      "Date                  \n",
      "2019-12-31   6773600  \n",
      "2020-01-02  15873500  \n",
      "2020-01-03   8604500  \n",
      "2020-01-06  11885500  \n",
      "2020-01-07   9388000  \n",
      "2020-01-08  11959100  \n",
      "2020-01-09  13122500  \n",
      "2020-01-10  12296000  \n",
      "2020-01-13  17544800  \n",
      "2020-01-14  17266900  \n",
      "2020-01-15  10743400  \n",
      "2020-01-16  13700500  \n",
      "2020-01-17  12956200  \n",
      "2020-01-21  15831100  \n",
      "2020-01-22  10059600  \n",
      "2020-01-23  18519900  \n",
      "2020-01-24  18143900  \n",
      "2020-01-27  24574700  \n",
      "2020-01-28  16196700  \n",
      "2020-01-29  12871900  \n",
      "2020-01-30  14376000  \n",
      "2020-01-31  18181400  \n",
      "2020-02-03  14131900  \n",
      "2020-02-04  16695100  \n",
      "2020-02-05  15766100  \n",
      "2020-02-06  10790800  \n",
      "2020-02-07  13790300  \n",
      "2020-02-10  17420300  \n",
      "2020-02-11  16073500  \n",
      "2020-02-12  18671900  \n",
      "...              ...  \n",
      "2020-04-30  20094400  \n",
      "2020-05-01  22276200  \n",
      "2020-05-04  25709400  \n",
      "2020-05-05  22957200  \n",
      "2020-05-06  18598900  \n",
      "2020-05-07  16164600  \n",
      "2020-05-08  23830100  \n",
      "2020-05-11  17920700  \n",
      "2020-05-12  17826800  \n",
      "2020-05-13  22429700  \n",
      "2020-05-14  20025900  \n",
      "2020-05-15  17209500  \n",
      "2020-05-18  23646800  \n",
      "2020-05-19  21438100  \n",
      "2020-05-20  38324100  \n",
      "2020-05-21  29850700  \n",
      "2020-05-22  51979300  \n",
      "2020-05-26  28683200  \n",
      "2020-05-27  23605400  \n",
      "2020-05-28  18763200  \n",
      "2020-05-29  43211500  \n",
      "2020-06-01  16169700  \n",
      "2020-06-02  22485800  \n",
      "2020-06-03  19999500  \n",
      "2020-06-04  14962400  \n",
      "2020-06-05  11983200  \n",
      "2020-06-08  12731200  \n",
      "2020-06-09  14140100  \n",
      "2020-06-10  13372400  \n",
      "2020-06-11  15546600  \n",
      "\n",
      "[113 rows x 6 columns]\n"
     ]
    }
   ],
   "source": [
    "print(data)"
   ]
  },
  {
   "cell_type": "code",
   "execution_count": 14,
   "metadata": {},
   "outputs": [],
   "source": [
    "data.to_csv(r\"BABA.csv\")"
   ]
  },
  {
   "cell_type": "code",
   "execution_count": 15,
   "metadata": {},
   "outputs": [
    {
     "data": {
      "text/plain": [
       "<matplotlib.axes._subplots.AxesSubplot at 0x20535bb6198>"
      ]
     },
     "execution_count": 15,
     "metadata": {},
     "output_type": "execute_result"
    },
    {
     "data": {
      "image/png": "[encoded data removed]",
      "text/plain": [
       "<Figure size 432x288 with 1 Axes>"
      ]
     },
     "metadata": {
      "needs_background": "light"
     },
     "output_type": "display_data"
    }
   ],
   "source": [
    "data[\"Adj Close\"].plot(kind=\"line\",legend=True)"
   ]
  },
  {
   "cell_type": "code",
   "execution_count": 16,
   "metadata": {},
   "outputs": [
    {
     "data": {
      "text/plain": [
       "DatetimeIndex(['2019-12-31', '2020-01-02', '2020-01-03', '2020-01-06',\n",
       "               '2020-01-07', '2020-01-08', '2020-01-09', '2020-01-10',\n",
       "               '2020-01-13', '2020-01-14',\n",
       "               ...\n",
       "               '2020-05-29', '2020-06-01', '2020-06-02', '2020-06-03',\n",
       "               '2020-06-04', '2020-06-05', '2020-06-08', '2020-06-09',\n",
       "               '2020-06-10', '2020-06-11'],\n",
       "              dtype='datetime64[ns]', name='Date', length=113, freq=None)"
      ]
     },
     "execution_count": 16,
     "metadata": {},
     "output_type": "execute_result"
    }
   ],
   "source": [
    "data.index"
   ]
  },
  {
   "cell_type": "code",
   "execution_count": null,
   "metadata": {},
   "outputs": [],
   "source": []
  },
  {
   "cell_type": "code",
   "execution_count": 17,
   "metadata": {},
   "outputs": [],
   "source": [
    "company = ['AAPL','GOOG','MSFT','AMZN','FB']\n",
    "#AAPL苹果\n",
    "#GOOG谷歌\n",
    "#微软\n",
    "#AMZN亚马逊\n",
    "#facebook"
   ]
  },
  {
   "cell_type": "code",
   "execution_count": 18,
   "metadata": {},
   "outputs": [
    {
     "name": "stdout",
     "output_type": "stream",
     "text": [
      "[*********************100%***********************]  5 of 5 completed\n"
     ]
    }
   ],
   "source": [
    "df = pdr.get_data_yahoo(company,start=\"2020-01-01\",den=\"2020-06-09\")[\"Adj Close\"]"
   ]
  },
  {
   "cell_type": "code",
   "execution_count": 19,
   "metadata": {},
   "outputs": [],
   "source": [
    "df.to_csv(\"top5.csv\")"
   ]
  },
  {
   "cell_type": "code",
   "execution_count": 20,
   "metadata": {},
   "outputs": [
    {
     "name": "stdout",
     "output_type": "stream",
     "text": [
      "                  AAPL         AMZN          FB         GOOG        MSFT\n",
      "Date                                                                    \n",
      "2019-12-31  292.163818  1847.839966  205.250000  1337.020020  156.833633\n",
      "2020-01-02  298.829956  1898.010010  209.779999  1367.369995  159.737595\n",
      "2020-01-03  295.924713  1874.969971  208.669998  1360.660034  157.748581\n",
      "2020-01-06  298.282715  1902.880005  212.600006  1394.209961  158.156342\n",
      "2020-01-07  296.879883  1906.859985  213.059998  1393.339966  156.714310\n"
     ]
    }
   ],
   "source": [
    "print(df.head())"
   ]
  },
  {
   "cell_type": "code",
   "execution_count": 21,
   "metadata": {},
   "outputs": [
    {
     "data": {
      "text/plain": [
       "<matplotlib.axes._subplots.AxesSubplot at 0x20535c39cc0>"
      ]
     },
     "execution_count": 21,
     "metadata": {},
     "output_type": "execute_result"
    },
    {
     "data": {
      "image/png": "[encoded data removed]",
      "text/plain": [
       "<Figure size 432x288 with 1 Axes>"
      ]
     },
     "metadata": {
      "needs_background": "light"
     },
     "output_type": "display_data"
    }
   ],
   "source": [
    "df.plot()"
   ]
  },
  {
   "cell_type": "code",
   "execution_count": 22,
   "metadata": {},
   "outputs": [],
   "source": [
    "plt.show()"
   ]
  },
  {
   "cell_type": "code",
   "execution_count": null,
   "metadata": {},
   "outputs": [],
   "source": []
  }
 ],
 "metadata": {
  "kernelspec": {
   "display_name": "Python 3",
   "language": "python",
   "name": "python3"
  },
  "language_info": {
   "codemirror_mode": {
    "name": "ipython",
    "version": 3
   },
   "file_extension": ".py",
   "mimetype": "text/x-python",
   "name": "python",
   "nbconvert_exporter": "python",
   "pygments_lexer": "ipython3",
   "version": "3.7.3"
  }
 },
 "nbformat": 4,
 "nbformat_minor": 2
}
